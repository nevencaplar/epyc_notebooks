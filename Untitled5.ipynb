{
 "cells": [
  {
   "cell_type": "code",
   "execution_count": 1,
   "id": "95ed47ad",
   "metadata": {},
   "outputs": [
    {
     "data": {
      "text/plain": [
       "4"
      ]
     },
     "execution_count": 1,
     "metadata": {},
     "output_type": "execute_result"
    }
   ],
   "source": [
    "2+2"
   ]
  },
  {
   "cell_type": "code",
   "execution_count": 2,
   "id": "421883e0",
   "metadata": {},
   "outputs": [],
   "source": [
    "import lsstseries as ls"
   ]
  },
  {
   "cell_type": "code",
   "execution_count": 4,
   "id": "78dd7409",
   "metadata": {
    "scrolled": true
   },
   "outputs": [
    {
     "name": "stdout",
     "output_type": "stream",
     "text": [
      "['/astro/users/ncaplar', '/astro/users/ncaplar/miniconda3/envs/tiny_lsst/lib/python310.zip', '/astro/users/ncaplar/miniconda3/envs/tiny_lsst/lib/python3.10', '/astro/users/ncaplar/miniconda3/envs/tiny_lsst/lib/python3.10/lib-dynload', '', '/astro/users/ncaplar/miniconda3/envs/tiny_lsst/lib/python3.10/site-packages', '/astro/users/ncaplar/github/tinygp/src']\n"
     ]
    }
   ],
   "source": [
    "import sys\n",
    "print(sys.path)"
   ]
  },
  {
   "cell_type": "code",
   "execution_count": 5,
   "id": "ae82ca48",
   "metadata": {},
   "outputs": [
    {
     "name": "stdout",
     "output_type": "stream",
     "text": [
      "['/astro/users/ncaplar', '/astro/users/ncaplar/miniconda3/envs/tiny_lsst/lib/python310.zip', '/astro/users/ncaplar/miniconda3/envs/tiny_lsst/lib/python3.10', '/astro/users/ncaplar/miniconda3/envs/tiny_lsst/lib/python3.10/lib-dynload', '', '/astro/users/ncaplar/miniconda3/envs/tiny_lsst/lib/python3.10/site-packages', '/astro/users/ncaplar/github/tinygp/src']\n"
     ]
    }
   ],
   "source": [
    "print(sys.path)\n",
    "import tinygp"
   ]
  },
  {
   "cell_type": "code",
   "execution_count": 5,
   "id": "96658c9b",
   "metadata": {},
   "outputs": [
    {
     "ename": "ModuleNotFoundError",
     "evalue": "No module named 'tinygp'",
     "output_type": "error",
     "traceback": [
      "\u001b[0;31m---------------------------------------------------------------------------\u001b[0m",
      "\u001b[0;31mModuleNotFoundError\u001b[0m                       Traceback (most recent call last)",
      "Cell \u001b[0;32mIn[5], line 1\u001b[0m\n\u001b[0;32m----> 1\u001b[0m \u001b[38;5;28;01mimport\u001b[39;00m \u001b[38;5;21;01mtinygp\u001b[39;00m\n",
      "\u001b[0;31mModuleNotFoundError\u001b[0m: No module named 'tinygp'"
     ]
    }
   ],
   "source": [
    "import tinygp"
   ]
  },
  {
   "cell_type": "code",
   "execution_count": null,
   "id": "3bbf9501",
   "metadata": {},
   "outputs": [],
   "source": []
  }
 ],
 "metadata": {
  "kernelspec": {
   "display_name": "Neven's tiny_lsst",
   "language": "python",
   "name": "ncaplar"
  },
  "language_info": {
   "codemirror_mode": {
    "name": "ipython",
    "version": 3
   },
   "file_extension": ".py",
   "mimetype": "text/x-python",
   "name": "python",
   "nbconvert_exporter": "python",
   "pygments_lexer": "ipython3",
   "version": "3.10.9"
  }
 },
 "nbformat": 4,
 "nbformat_minor": 5
}
